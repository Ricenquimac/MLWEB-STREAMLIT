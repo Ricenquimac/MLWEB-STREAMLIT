{
    "cells": [
        {
            "cell_type": "markdown",
            "metadata": {},
            "source": [
                "# Explore here"
            ]
        },
        {
            "cell_type": "code",
            "execution_count": null,
            "metadata": {},
            "outputs": [],
            "source": [
                "import numpy as np \n",
                "import pandas as pd \n",
                "import seaborn as sns\n",
                "import matplotlib.pyplot as plt\n",
                "from xgboost import XGBRegressor"
            ]
        },
        {
            "cell_type": "code",
            "execution_count": null,
            "metadata": {},
            "outputs": [],
            "source": [
                "import os\n",
                "for dirname, _, filenames in os.walk('/kaggle/input'):\n",
                "    for filename in filenames:\n",
                "        print(os.path.join(dirname, filename))"
            ]
        },
        {
            "cell_type": "code",
            "execution_count": null,
            "metadata": {},
            "outputs": [],
            "source": [
                "df = pd.read_csv(\"/workspaces/MLWEB-FLASK/data/raw/CarPricesPrediction.csv\")"
            ]
        },
        {
            "cell_type": "code",
            "execution_count": null,
            "metadata": {},
            "outputs": [],
            "source": [
                "df.info()"
            ]
        },
        {
            "cell_type": "code",
            "execution_count": null,
            "metadata": {},
            "outputs": [],
            "source": [
                "df.head()"
            ]
        },
        {
            "cell_type": "code",
            "execution_count": null,
            "metadata": {},
            "outputs": [],
            "source": [
                "missing_values = df.isnull().sum()\n",
                "missing_values"
            ]
        },
        {
            "cell_type": "code",
            "execution_count": null,
            "metadata": {},
            "outputs": [],
            "source": [
                "condition_map = {'Excellent': 2,\n",
                "                 'Good': 1,\n",
                "                 'Fair': 0}\n",
                "\n",
                "df['Condition'] = df['Condition'].map(condition_map)\n",
                "df.head()"
            ]
        },
        {
            "cell_type": "code",
            "execution_count": null,
            "metadata": {},
            "outputs": [],
            "source": [
                "onehot_df = pd.get_dummies(df[['Make','Model']], drop_first=True)\n",
                "\n",
                "df = pd.concat([df,onehot_df], axis=1)\n",
                "df.drop(columns=['Make','Model'], axis=1, inplace=True)\n",
                "df.head()"
            ]
        },
        {
            "cell_type": "code",
            "execution_count": null,
            "metadata": {},
            "outputs": [],
            "source": [
                "X = df.drop(columns='Price', axis=1).values\n",
                "y = df['Price'].values"
            ]
        },
        {
            "cell_type": "code",
            "execution_count": null,
            "metadata": {},
            "outputs": [],
            "source": [
                "from sklearn.model_selection import train_test_split, GridSearchCV\n",
                "X_train, X_val, y_train, y_val = train_test_split(X, y, test_size=0.2, random_state=0)"
            ]
        },
        {
            "cell_type": "code",
            "execution_count": null,
            "metadata": {},
            "outputs": [],
            "source": [
                "from sklearn.model_selection import train_test_split, GridSearchCV\n",
                "model = XGBRegressor()\n",
                "\n",
                "param_grid = {\n",
                "    'n_estimator': [50,80,100],\n",
                "    'learning_rate':[0.01,0.1,0.2],\n",
                "    'maxdepth':[3,4,5,6,7,8]\n",
                "}\n",
                "\n",
                "grid_search = GridSearchCV(estimator=model, param_grid=param_grid, cv=5)\n",
                "grid_search.fit(X,y)"
            ]
        },
        {
            "cell_type": "code",
            "execution_count": null,
            "metadata": {},
            "outputs": [],
            "source": [
                "from pickle import  dump\n",
                "dump(model, open(\"../models/Price_model_flask.sav\", \"wb\"))"
            ]
        }
    ],
    "metadata": {
        "kernelspec": {
            "display_name": "Python 3.8.13 64-bit ('3.8.13')",
            "language": "python",
            "name": "python3"
        },
        "language_info": {
            "codemirror_mode": {
                "name": "ipython",
                "version": 3
            },
            "file_extension": ".py",
            "mimetype": "text/x-python",
            "name": "python",
            "nbconvert_exporter": "python",
            "pygments_lexer": "ipython3",
            "version": "3.8.13"
        },
        "orig_nbformat": 4,
        "vscode": {
            "interpreter": {
                "hash": "110cc1dee26208153f2972f08a2ad52b6a56238dc66d48e87fb757ef2996db56"
            }
        }
    },
    "nbformat": 4,
    "nbformat_minor": 2
}
